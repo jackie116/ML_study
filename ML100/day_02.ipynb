{
 "metadata": {
  "language_info": {
   "codemirror_mode": {
    "name": "ipython",
    "version": 3
   },
   "file_extension": ".py",
   "mimetype": "text/x-python",
   "name": "python",
   "nbconvert_exporter": "python",
   "pygments_lexer": "ipython3",
   "version": "3.8.5-final"
  },
  "orig_nbformat": 2,
  "kernelspec": {
   "name": "Python 3.8.5 32-bit",
   "display_name": "Python 3.8.5 32-bit",
   "metadata": {
    "interpreter": {
     "hash": "2ec4dbb89c2357ba3070850d0d05a1c6e4c340381c7e77478e8d14b633bca211"
    }
   }
  }
 },
 "nbformat": 4,
 "nbformat_minor": 2,
 "cells": [
  {
   "source": [
    "讀取最主要的資料 application_train.csv (https://www.kaggle.com/c/home-credit-default-risk/data)\n",
    "\n",
    "- 使用 pandas.read_csv 讀取資料\n",
    "- 簡單瀏覽 pandas 所讀進的資料"
   ],
   "cell_type": "markdown",
   "metadata": {}
  },
  {
   "cell_type": "code",
   "execution_count": null,
   "metadata": {},
   "outputs": [],
   "source": [
    "import os \n",
    "import numpy as np\n",
    "import pandas as pd\n",
    "\n",
    "dir_data = './data/'"
   ]
  },
  {
   "cell_type": "code",
   "execution_count": null,
   "metadata": {
    "tags": []
   },
   "outputs": [],
   "source": [
    "f_app = os.path.join(dir_data, 'application_train.csv')\n",
    "print('Path of read in data: %s' % (f_app))\n",
    "app_train = pd.read_csv(f_app)"
   ]
  },
  {
   "source": [
    "#### Note: 在 jupyter notebook 中，可以使用 `?` 來調查函數的定義"
   ],
   "cell_type": "markdown",
   "metadata": {}
  },
  {
   "cell_type": "code",
   "execution_count": null,
   "metadata": {},
   "outputs": [],
   "source": [
    "?pd.read_csv"
   ]
  },
  {
   "cell_type": "code",
   "execution_count": null,
   "metadata": {},
   "outputs": [],
   "source": [
    "app_train.head()"
   ]
  },
  {
   "source": [
    "- 列出資料的大小 (Hint : shape)\n",
    "- 列出所有欄位 (有多種寫法)\n",
    "- 擷取部分資料 (Hint : loc 或 iloc)"
   ],
   "cell_type": "markdown",
   "metadata": {}
  },
  {
   "source": [
    "#### 資料的 row 數以及 column 數"
   ],
   "cell_type": "markdown",
   "metadata": {}
  },
  {
   "cell_type": "code",
   "execution_count": 12,
   "metadata": {},
   "outputs": [
    {
     "output_type": "execute_result",
     "data": {
      "text/plain": "(307511, 122)"
     },
     "metadata": {},
     "execution_count": 12
    }
   ],
   "source": [
    "app_train.shape"
   ]
  },
  {
   "source": [
    "#### 列出所有欄位"
   ],
   "cell_type": "markdown",
   "metadata": {}
  },
  {
   "cell_type": "code",
   "execution_count": 10,
   "metadata": {},
   "outputs": [
    {
     "output_type": "execute_result",
     "data": {
      "text/plain": "Index([&#39;SK_ID_CURR&#39;, &#39;TARGET&#39;, &#39;NAME_CONTRACT_TYPE&#39;, &#39;CODE_GENDER&#39;,\n       &#39;FLAG_OWN_CAR&#39;, &#39;FLAG_OWN_REALTY&#39;, &#39;CNT_CHILDREN&#39;, &#39;AMT_INCOME_TOTAL&#39;,\n       &#39;AMT_CREDIT&#39;, &#39;AMT_ANNUITY&#39;,\n       ...\n       &#39;FLAG_DOCUMENT_18&#39;, &#39;FLAG_DOCUMENT_19&#39;, &#39;FLAG_DOCUMENT_20&#39;,\n       &#39;FLAG_DOCUMENT_21&#39;, &#39;AMT_REQ_CREDIT_BUREAU_HOUR&#39;,\n       &#39;AMT_REQ_CREDIT_BUREAU_DAY&#39;, &#39;AMT_REQ_CREDIT_BUREAU_WEEK&#39;,\n       &#39;AMT_REQ_CREDIT_BUREAU_MON&#39;, &#39;AMT_REQ_CREDIT_BUREAU_QRT&#39;,\n       &#39;AMT_REQ_CREDIT_BUREAU_YEAR&#39;],\n      dtype=&#39;object&#39;, length=122)"
     },
     "metadata": {},
     "execution_count": 10
    }
   ],
   "source": [
    "app_train.columns"
   ]
  },
  {
   "source": [
    "#### 截取部分資料"
   ],
   "cell_type": "markdown",
   "metadata": {}
  },
  {
   "cell_type": "code",
   "execution_count": 17,
   "metadata": {},
   "outputs": [
    {
     "output_type": "execute_result",
     "data": {
      "text/plain": "   SK_ID_CURR  TARGET NAME_CONTRACT_TYPE CODE_GENDER FLAG_OWN_CAR\n0      100002       1         Cash loans           M            N\n1      100003       0         Cash loans           F            N\n2      100004       0    Revolving loans           M            Y\n3      100006       0         Cash loans           F            N\n4      100007       0         Cash loans           M            N\n5      100008       0         Cash loans           M            N\n6      100009       0         Cash loans           F            Y\n7      100010       0         Cash loans           M            Y\n8      100011       0         Cash loans           F            N\n9      100012       0    Revolving loans           M            N",
      "text/html": "<div>\n<style scoped>\n    .dataframe tbody tr th:only-of-type {\n        vertical-align: middle;\n    }\n\n    .dataframe tbody tr th {\n        vertical-align: top;\n    }\n\n    .dataframe thead th {\n        text-align: right;\n    }\n</style>\n<table border=\"1\" class=\"dataframe\">\n  <thead>\n    <tr style=\"text-align: right;\">\n      <th></th>\n      <th>SK_ID_CURR</th>\n      <th>TARGET</th>\n      <th>NAME_CONTRACT_TYPE</th>\n      <th>CODE_GENDER</th>\n      <th>FLAG_OWN_CAR</th>\n    </tr>\n  </thead>\n  <tbody>\n    <tr>\n      <th>0</th>\n      <td>100002</td>\n      <td>1</td>\n      <td>Cash loans</td>\n      <td>M</td>\n      <td>N</td>\n    </tr>\n    <tr>\n      <th>1</th>\n      <td>100003</td>\n      <td>0</td>\n      <td>Cash loans</td>\n      <td>F</td>\n      <td>N</td>\n    </tr>\n    <tr>\n      <th>2</th>\n      <td>100004</td>\n      <td>0</td>\n      <td>Revolving loans</td>\n      <td>M</td>\n      <td>Y</td>\n    </tr>\n    <tr>\n      <th>3</th>\n      <td>100006</td>\n      <td>0</td>\n      <td>Cash loans</td>\n      <td>F</td>\n      <td>N</td>\n    </tr>\n    <tr>\n      <th>4</th>\n      <td>100007</td>\n      <td>0</td>\n      <td>Cash loans</td>\n      <td>M</td>\n      <td>N</td>\n    </tr>\n    <tr>\n      <th>5</th>\n      <td>100008</td>\n      <td>0</td>\n      <td>Cash loans</td>\n      <td>M</td>\n      <td>N</td>\n    </tr>\n    <tr>\n      <th>6</th>\n      <td>100009</td>\n      <td>0</td>\n      <td>Cash loans</td>\n      <td>F</td>\n      <td>Y</td>\n    </tr>\n    <tr>\n      <th>7</th>\n      <td>100010</td>\n      <td>0</td>\n      <td>Cash loans</td>\n      <td>M</td>\n      <td>Y</td>\n    </tr>\n    <tr>\n      <th>8</th>\n      <td>100011</td>\n      <td>0</td>\n      <td>Cash loans</td>\n      <td>F</td>\n      <td>N</td>\n    </tr>\n    <tr>\n      <th>9</th>\n      <td>100012</td>\n      <td>0</td>\n      <td>Revolving loans</td>\n      <td>M</td>\n      <td>N</td>\n    </tr>\n  </tbody>\n</table>\n</div>"
     },
     "metadata": {},
     "execution_count": 17
    }
   ],
   "source": [
    "app_train.iloc[:10,0:5]"
   ]
  }
 ]
}