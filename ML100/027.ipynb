{
 "cells": [
  {
   "cell_type": "markdown",
   "metadata": {
    "collapsed": true
   },
   "source": [
    "# 範例 : 計程車費率預測\n",
    "https://www.kaggle.com/c/new-york-city-taxi-fare-prediction"
   ]
  },
  {
   "cell_type": "markdown",
   "metadata": {},
   "source": [
    "# [作業目標]\n",
    "- 試著模仿範例寫法, 使用程車費率預測競賽練習時間欄位處理"
   ]
  },
  {
   "cell_type": "markdown",
   "metadata": {},
   "source": [
    "# [作業重點]\n",
    "- 新增星期幾(day of week)與第幾周(week of year)這兩項特徵, 觀察有什麼影響 (In[4], Out[4], In[5], Out[5])\n",
    "- 新增加上年週期與周周期特徵 , 觀察有什麼影響 (In[8], Out[8], In[9], Out[9]) "
   ]
  },
  {
   "cell_type": "code",
   "execution_count": 29,
   "metadata": {},
   "outputs": [
    {
     "output_type": "execute_result",
     "data": {
      "text/plain": [
       "           pickup_datetime  pickup_longitude  pickup_latitude  \\\n",
       "0  2011-10-21 23:54:10 UTC        -73.990580        40.761071   \n",
       "1  2015-02-03 10:42:03 UTC        -73.988403        40.723431   \n",
       "2  2014-03-16 18:58:58 UTC        -74.015785        40.715110   \n",
       "3  2009-06-13 16:10:54 UTC        -73.977322        40.787275   \n",
       "4  2014-06-12 03:25:56 UTC        -73.989683        40.729717   \n",
       "\n",
       "   dropoff_longitude  dropoff_latitude  passenger_count  \n",
       "0         -73.981128         40.758634                2  \n",
       "1         -73.989647         40.741695                1  \n",
       "2         -74.012029         40.707888                2  \n",
       "3         -73.958030         40.778838                3  \n",
       "4         -73.982490         40.761887                3  "
      ],
      "text/html": "<div>\n<style scoped>\n    .dataframe tbody tr th:only-of-type {\n        vertical-align: middle;\n    }\n\n    .dataframe tbody tr th {\n        vertical-align: top;\n    }\n\n    .dataframe thead th {\n        text-align: right;\n    }\n</style>\n<table border=\"1\" class=\"dataframe\">\n  <thead>\n    <tr style=\"text-align: right;\">\n      <th></th>\n      <th>pickup_datetime</th>\n      <th>pickup_longitude</th>\n      <th>pickup_latitude</th>\n      <th>dropoff_longitude</th>\n      <th>dropoff_latitude</th>\n      <th>passenger_count</th>\n    </tr>\n  </thead>\n  <tbody>\n    <tr>\n      <th>0</th>\n      <td>2011-10-21 23:54:10 UTC</td>\n      <td>-73.990580</td>\n      <td>40.761071</td>\n      <td>-73.981128</td>\n      <td>40.758634</td>\n      <td>2</td>\n    </tr>\n    <tr>\n      <th>1</th>\n      <td>2015-02-03 10:42:03 UTC</td>\n      <td>-73.988403</td>\n      <td>40.723431</td>\n      <td>-73.989647</td>\n      <td>40.741695</td>\n      <td>1</td>\n    </tr>\n    <tr>\n      <th>2</th>\n      <td>2014-03-16 18:58:58 UTC</td>\n      <td>-74.015785</td>\n      <td>40.715110</td>\n      <td>-74.012029</td>\n      <td>40.707888</td>\n      <td>2</td>\n    </tr>\n    <tr>\n      <th>3</th>\n      <td>2009-06-13 16:10:54 UTC</td>\n      <td>-73.977322</td>\n      <td>40.787275</td>\n      <td>-73.958030</td>\n      <td>40.778838</td>\n      <td>3</td>\n    </tr>\n    <tr>\n      <th>4</th>\n      <td>2014-06-12 03:25:56 UTC</td>\n      <td>-73.989683</td>\n      <td>40.729717</td>\n      <td>-73.982490</td>\n      <td>40.761887</td>\n      <td>3</td>\n    </tr>\n  </tbody>\n</table>\n</div>"
     },
     "metadata": {},
     "execution_count": 29
    }
   ],
   "source": [
    "# 做完特徵工程前的所有準備\n",
    "import pandas as pd\n",
    "import numpy as np\n",
    "import datetime\n",
    "from sklearn.preprocessing import MinMaxScaler\n",
    "from sklearn.model_selection import cross_val_score\n",
    "from sklearn.linear_model import LinearRegression\n",
    "from sklearn.ensemble import GradientBoostingRegressor\n",
    "\n",
    "data_path = 'data/'\n",
    "df = pd.read_csv(data_path + 'taxi_data1.csv')\n",
    "\n",
    "train_Y = df['fare_amount']\n",
    "df = df.drop(['fare_amount'] , axis=1)\n",
    "df.head()"
   ]
  },
  {
   "cell_type": "code",
   "execution_count": 30,
   "metadata": {},
   "outputs": [
    {
     "output_type": "execute_result",
     "data": {
      "text/plain": [
       "      pickup_datetime  pickup_longitude  pickup_latitude  dropoff_longitude  \\\n",
       "0 2011-10-21 23:54:10        -73.990580        40.761071         -73.981128   \n",
       "1 2015-02-03 10:42:03        -73.988403        40.723431         -73.989647   \n",
       "2 2014-03-16 18:58:58        -74.015785        40.715110         -74.012029   \n",
       "3 2009-06-13 16:10:54        -73.977322        40.787275         -73.958030   \n",
       "4 2014-06-12 03:25:56        -73.989683        40.729717         -73.982490   \n",
       "\n",
       "   dropoff_latitude  passenger_count  pickup_year  pickup_month  pickup_day  \\\n",
       "0         40.758634                2         2011            10          21   \n",
       "1         40.741695                1         2015             2           3   \n",
       "2         40.707888                2         2014             3          16   \n",
       "3         40.778838                3         2009             6          13   \n",
       "4         40.761887                3         2014             6          12   \n",
       "\n",
       "   pickup_hour  pickup_minute  pickup_second  \n",
       "0           23             54             10  \n",
       "1           10             42              3  \n",
       "2           18             58             58  \n",
       "3           16             10             54  \n",
       "4            3             25             56  "
      ],
      "text/html": "<div>\n<style scoped>\n    .dataframe tbody tr th:only-of-type {\n        vertical-align: middle;\n    }\n\n    .dataframe tbody tr th {\n        vertical-align: top;\n    }\n\n    .dataframe thead th {\n        text-align: right;\n    }\n</style>\n<table border=\"1\" class=\"dataframe\">\n  <thead>\n    <tr style=\"text-align: right;\">\n      <th></th>\n      <th>pickup_datetime</th>\n      <th>pickup_longitude</th>\n      <th>pickup_latitude</th>\n      <th>dropoff_longitude</th>\n      <th>dropoff_latitude</th>\n      <th>passenger_count</th>\n      <th>pickup_year</th>\n      <th>pickup_month</th>\n      <th>pickup_day</th>\n      <th>pickup_hour</th>\n      <th>pickup_minute</th>\n      <th>pickup_second</th>\n    </tr>\n  </thead>\n  <tbody>\n    <tr>\n      <th>0</th>\n      <td>2011-10-21 23:54:10</td>\n      <td>-73.990580</td>\n      <td>40.761071</td>\n      <td>-73.981128</td>\n      <td>40.758634</td>\n      <td>2</td>\n      <td>2011</td>\n      <td>10</td>\n      <td>21</td>\n      <td>23</td>\n      <td>54</td>\n      <td>10</td>\n    </tr>\n    <tr>\n      <th>1</th>\n      <td>2015-02-03 10:42:03</td>\n      <td>-73.988403</td>\n      <td>40.723431</td>\n      <td>-73.989647</td>\n      <td>40.741695</td>\n      <td>1</td>\n      <td>2015</td>\n      <td>2</td>\n      <td>3</td>\n      <td>10</td>\n      <td>42</td>\n      <td>3</td>\n    </tr>\n    <tr>\n      <th>2</th>\n      <td>2014-03-16 18:58:58</td>\n      <td>-74.015785</td>\n      <td>40.715110</td>\n      <td>-74.012029</td>\n      <td>40.707888</td>\n      <td>2</td>\n      <td>2014</td>\n      <td>3</td>\n      <td>16</td>\n      <td>18</td>\n      <td>58</td>\n      <td>58</td>\n    </tr>\n    <tr>\n      <th>3</th>\n      <td>2009-06-13 16:10:54</td>\n      <td>-73.977322</td>\n      <td>40.787275</td>\n      <td>-73.958030</td>\n      <td>40.778838</td>\n      <td>3</td>\n      <td>2009</td>\n      <td>6</td>\n      <td>13</td>\n      <td>16</td>\n      <td>10</td>\n      <td>54</td>\n    </tr>\n    <tr>\n      <th>4</th>\n      <td>2014-06-12 03:25:56</td>\n      <td>-73.989683</td>\n      <td>40.729717</td>\n      <td>-73.982490</td>\n      <td>40.761887</td>\n      <td>3</td>\n      <td>2014</td>\n      <td>6</td>\n      <td>12</td>\n      <td>3</td>\n      <td>25</td>\n      <td>56</td>\n    </tr>\n  </tbody>\n</table>\n</div>"
     },
     "metadata": {},
     "execution_count": 30
    }
   ],
   "source": [
    "# 時間特徵分解方式:使用datetime\n",
    "df['pickup_datetime'] = df['pickup_datetime'].apply(lambda x: datetime.datetime.strptime(x, '%Y-%m-%d %H:%M:%S UTC'))\n",
    "df['pickup_year'] = df['pickup_datetime'].apply(lambda x: datetime.datetime.strftime(x, '%Y')).astype('int64')\n",
    "df['pickup_month'] = df['pickup_datetime'].apply(lambda x: datetime.datetime.strftime(x, '%m')).astype('int64')\n",
    "df['pickup_day'] = df['pickup_datetime'].apply(lambda x: datetime.datetime.strftime(x, '%d')).astype('int64')\n",
    "df['pickup_hour'] = df['pickup_datetime'].apply(lambda x: datetime.datetime.strftime(x, '%H')).astype('int64')\n",
    "df['pickup_minute'] = df['pickup_datetime'].apply(lambda x: datetime.datetime.strftime(x, '%M')).astype('int64')\n",
    "df['pickup_second'] = df['pickup_datetime'].apply(lambda x: datetime.datetime.strftime(x, '%S')).astype('int64')\n",
    "df.head()"
   ]
  },
  {
   "cell_type": "code",
   "execution_count": 31,
   "metadata": {},
   "outputs": [
    {
     "output_type": "stream",
     "name": "stdout",
     "text": [
      "Linear Reg Score : 0.026876871475636888\n",
      "Gradient Boosting Reg Score : 0.7103351557364549\n"
     ]
    }
   ],
   "source": [
    "# 將結果使用線性迴歸 / 梯度提升樹分別看結果\n",
    "df_temp = df.drop(['pickup_datetime'] , axis=1)\n",
    "scaler = MinMaxScaler()\n",
    "train_X = scaler.fit_transform(df_temp)\n",
    "Linear = LinearRegression()\n",
    "print(f'Linear Reg Score : {cross_val_score(Linear, train_X, train_Y, cv=5).mean()}')\n",
    "GDBT = GradientBoostingRegressor()\n",
    "print(f'Gradient Boosting Reg Score : {cross_val_score(GDBT, train_X, train_Y, cv=5).mean()}')"
   ]
  },
  {
   "cell_type": "markdown",
   "metadata": {
    "collapsed": true
   },
   "source": [
    "# 作業1\n",
    "* 對照範例，試著加入星期幾 (day of week) 與第幾周 (week of year) 這兩項特徵，  \n",
    "看看結果會比原本只有時間特徵分解的結果更好或更差?\n",
    "> 加入星期幾與第幾周的特徵後, 看起來結果似乎更差了, 可能表示\"第幾周\"這個特徵沒有提供多少資訊  \n",
    "但是搭配日週期之後效果有提升, 可能是假日與非假日(星期幾)的作息(日週期)與費率有相關性"
   ]
  },
  {
   "cell_type": "code",
   "execution_count": 32,
   "metadata": {
    "collapsed": true
   },
   "outputs": [
    {
     "output_type": "execute_result",
     "data": {
      "text/plain": [
       "       pickup_datetime  pickup_longitude  pickup_latitude  dropoff_longitude  \\\n",
       "0  2011-10-21 23:54:10        -73.990580        40.761071         -73.981128   \n",
       "1  2015-02-03 10:42:03        -73.988403        40.723431         -73.989647   \n",
       "2  2014-03-16 18:58:58        -74.015785        40.715110         -74.012029   \n",
       "3  2009-06-13 16:10:54        -73.977322        40.787275         -73.958030   \n",
       "4  2014-06-12 03:25:56        -73.989683        40.729717         -73.982490   \n",
       "5  2011-07-16 01:19:59        -73.997631        40.721805         -74.009757   \n",
       "6  2009-06-27 18:15:00        -73.954743        40.789303         -73.964755   \n",
       "7  2009-01-23 20:38:16        -73.982279        40.764668         -73.990323   \n",
       "8  2010-08-09 14:46:03        -73.965039        40.769972         -73.955365   \n",
       "9  2011-09-29 21:56:45        -73.986570        40.734727         -74.003757   \n",
       "10 2009-02-09 22:26:00        -73.953742        40.774040         -73.969870   \n",
       "11 2010-11-03 21:07:00        -73.982057        40.768790         -73.949467   \n",
       "12 2009-11-23 05:18:00        -73.983368        40.727033         -73.953655   \n",
       "13 2012-04-02 21:08:02        -74.005307        40.728124         -73.979042   \n",
       "14 2009-12-14 20:28:45        -73.970473        40.783983         -73.967860   \n",
       "15 2014-03-30 01:52:38        -73.951788        40.714289         -73.952272   \n",
       "16 2009-07-01 03:24:53        -73.999353        40.761494         -73.953128   \n",
       "17 2013-08-01 01:00:25        -74.001532        40.730875         -73.978048   \n",
       "18 2012-03-17 10:39:05        -73.966994        40.757627         -73.967327   \n",
       "19 2013-11-01 20:41:00        -73.967032        40.803832         -73.973962   \n",
       "\n",
       "    dropoff_latitude  passenger_count  pickup_year  pickup_month  pickup_day  \\\n",
       "0          40.758634                2         2011            10          21   \n",
       "1          40.741695                1         2015             2           3   \n",
       "2          40.707888                2         2014             3          16   \n",
       "3          40.778838                3         2009             6          13   \n",
       "4          40.761887                3         2014             6          12   \n",
       "5          40.709941                1         2011             7          16   \n",
       "6          40.773345                1         2009             6          27   \n",
       "7          40.756427                1         2009             1          23   \n",
       "8          40.779438                1         2010             8           9   \n",
       "9          40.741951                1         2011             9          29   \n",
       "10         40.785605                1         2009             2           9   \n",
       "11         40.830230                1         2010            11           3   \n",
       "12         40.666835                4         2009            11          23   \n",
       "13         40.741986                1         2012             4           2   \n",
       "14         40.762692                1         2009            12          14   \n",
       "15         40.694019                2         2014             3          30   \n",
       "16         40.768081                1         2009             7           1   \n",
       "17         40.764719                1         2013             8           1   \n",
       "18         40.766001                1         2012             3          17   \n",
       "19         40.754712                2         2013            11           1   \n",
       "\n",
       "    pickup_hour  pickup_minute  pickup_second  day_of_week  week_of_year  \n",
       "0            23             54             10            5            42  \n",
       "1            10             42              3            2             6  \n",
       "2            18             58             58            0            11  \n",
       "3            16             10             54            6            24  \n",
       "4             3             25             56            4            24  \n",
       "5             1             19             59            6            28  \n",
       "6            18             15              0            6            26  \n",
       "7            20             38             16            5             4  \n",
       "8            14             46              3            1            32  \n",
       "9            21             56             45            4            39  \n",
       "10           22             26              0            1             7  \n",
       "11           21              7              0            3            44  \n",
       "12            5             18              0            1            48  \n",
       "13           21              8              2            1            14  \n",
       "14           20             28             45            1            51  \n",
       "15            1             52             38            0            13  \n",
       "16            3             24             53            3            27  \n",
       "17            1              0             25            4            31  \n",
       "18           10             39              5            6            11  \n",
       "19           20             41              0            5            44  "
      ],
      "text/html": "<div>\n<style scoped>\n    .dataframe tbody tr th:only-of-type {\n        vertical-align: middle;\n    }\n\n    .dataframe tbody tr th {\n        vertical-align: top;\n    }\n\n    .dataframe thead th {\n        text-align: right;\n    }\n</style>\n<table border=\"1\" class=\"dataframe\">\n  <thead>\n    <tr style=\"text-align: right;\">\n      <th></th>\n      <th>pickup_datetime</th>\n      <th>pickup_longitude</th>\n      <th>pickup_latitude</th>\n      <th>dropoff_longitude</th>\n      <th>dropoff_latitude</th>\n      <th>passenger_count</th>\n      <th>pickup_year</th>\n      <th>pickup_month</th>\n      <th>pickup_day</th>\n      <th>pickup_hour</th>\n      <th>pickup_minute</th>\n      <th>pickup_second</th>\n      <th>day_of_week</th>\n      <th>week_of_year</th>\n    </tr>\n  </thead>\n  <tbody>\n    <tr>\n      <th>0</th>\n      <td>2011-10-21 23:54:10</td>\n      <td>-73.990580</td>\n      <td>40.761071</td>\n      <td>-73.981128</td>\n      <td>40.758634</td>\n      <td>2</td>\n      <td>2011</td>\n      <td>10</td>\n      <td>21</td>\n      <td>23</td>\n      <td>54</td>\n      <td>10</td>\n      <td>5</td>\n      <td>42</td>\n    </tr>\n    <tr>\n      <th>1</th>\n      <td>2015-02-03 10:42:03</td>\n      <td>-73.988403</td>\n      <td>40.723431</td>\n      <td>-73.989647</td>\n      <td>40.741695</td>\n      <td>1</td>\n      <td>2015</td>\n      <td>2</td>\n      <td>3</td>\n      <td>10</td>\n      <td>42</td>\n      <td>3</td>\n      <td>2</td>\n      <td>6</td>\n    </tr>\n    <tr>\n      <th>2</th>\n      <td>2014-03-16 18:58:58</td>\n      <td>-74.015785</td>\n      <td>40.715110</td>\n      <td>-74.012029</td>\n      <td>40.707888</td>\n      <td>2</td>\n      <td>2014</td>\n      <td>3</td>\n      <td>16</td>\n      <td>18</td>\n      <td>58</td>\n      <td>58</td>\n      <td>0</td>\n      <td>11</td>\n    </tr>\n    <tr>\n      <th>3</th>\n      <td>2009-06-13 16:10:54</td>\n      <td>-73.977322</td>\n      <td>40.787275</td>\n      <td>-73.958030</td>\n      <td>40.778838</td>\n      <td>3</td>\n      <td>2009</td>\n      <td>6</td>\n      <td>13</td>\n      <td>16</td>\n      <td>10</td>\n      <td>54</td>\n      <td>6</td>\n      <td>24</td>\n    </tr>\n    <tr>\n      <th>4</th>\n      <td>2014-06-12 03:25:56</td>\n      <td>-73.989683</td>\n      <td>40.729717</td>\n      <td>-73.982490</td>\n      <td>40.761887</td>\n      <td>3</td>\n      <td>2014</td>\n      <td>6</td>\n      <td>12</td>\n      <td>3</td>\n      <td>25</td>\n      <td>56</td>\n      <td>4</td>\n      <td>24</td>\n    </tr>\n    <tr>\n      <th>5</th>\n      <td>2011-07-16 01:19:59</td>\n      <td>-73.997631</td>\n      <td>40.721805</td>\n      <td>-74.009757</td>\n      <td>40.709941</td>\n      <td>1</td>\n      <td>2011</td>\n      <td>7</td>\n      <td>16</td>\n      <td>1</td>\n      <td>19</td>\n      <td>59</td>\n      <td>6</td>\n      <td>28</td>\n    </tr>\n    <tr>\n      <th>6</th>\n      <td>2009-06-27 18:15:00</td>\n      <td>-73.954743</td>\n      <td>40.789303</td>\n      <td>-73.964755</td>\n      <td>40.773345</td>\n      <td>1</td>\n      <td>2009</td>\n      <td>6</td>\n      <td>27</td>\n      <td>18</td>\n      <td>15</td>\n      <td>0</td>\n      <td>6</td>\n      <td>26</td>\n    </tr>\n    <tr>\n      <th>7</th>\n      <td>2009-01-23 20:38:16</td>\n      <td>-73.982279</td>\n      <td>40.764668</td>\n      <td>-73.990323</td>\n      <td>40.756427</td>\n      <td>1</td>\n      <td>2009</td>\n      <td>1</td>\n      <td>23</td>\n      <td>20</td>\n      <td>38</td>\n      <td>16</td>\n      <td>5</td>\n      <td>4</td>\n    </tr>\n    <tr>\n      <th>8</th>\n      <td>2010-08-09 14:46:03</td>\n      <td>-73.965039</td>\n      <td>40.769972</td>\n      <td>-73.955365</td>\n      <td>40.779438</td>\n      <td>1</td>\n      <td>2010</td>\n      <td>8</td>\n      <td>9</td>\n      <td>14</td>\n      <td>46</td>\n      <td>3</td>\n      <td>1</td>\n      <td>32</td>\n    </tr>\n    <tr>\n      <th>9</th>\n      <td>2011-09-29 21:56:45</td>\n      <td>-73.986570</td>\n      <td>40.734727</td>\n      <td>-74.003757</td>\n      <td>40.741951</td>\n      <td>1</td>\n      <td>2011</td>\n      <td>9</td>\n      <td>29</td>\n      <td>21</td>\n      <td>56</td>\n      <td>45</td>\n      <td>4</td>\n      <td>39</td>\n    </tr>\n    <tr>\n      <th>10</th>\n      <td>2009-02-09 22:26:00</td>\n      <td>-73.953742</td>\n      <td>40.774040</td>\n      <td>-73.969870</td>\n      <td>40.785605</td>\n      <td>1</td>\n      <td>2009</td>\n      <td>2</td>\n      <td>9</td>\n      <td>22</td>\n      <td>26</td>\n      <td>0</td>\n      <td>1</td>\n      <td>7</td>\n    </tr>\n    <tr>\n      <th>11</th>\n      <td>2010-11-03 21:07:00</td>\n      <td>-73.982057</td>\n      <td>40.768790</td>\n      <td>-73.949467</td>\n      <td>40.830230</td>\n      <td>1</td>\n      <td>2010</td>\n      <td>11</td>\n      <td>3</td>\n      <td>21</td>\n      <td>7</td>\n      <td>0</td>\n      <td>3</td>\n      <td>44</td>\n    </tr>\n    <tr>\n      <th>12</th>\n      <td>2009-11-23 05:18:00</td>\n      <td>-73.983368</td>\n      <td>40.727033</td>\n      <td>-73.953655</td>\n      <td>40.666835</td>\n      <td>4</td>\n      <td>2009</td>\n      <td>11</td>\n      <td>23</td>\n      <td>5</td>\n      <td>18</td>\n      <td>0</td>\n      <td>1</td>\n      <td>48</td>\n    </tr>\n    <tr>\n      <th>13</th>\n      <td>2012-04-02 21:08:02</td>\n      <td>-74.005307</td>\n      <td>40.728124</td>\n      <td>-73.979042</td>\n      <td>40.741986</td>\n      <td>1</td>\n      <td>2012</td>\n      <td>4</td>\n      <td>2</td>\n      <td>21</td>\n      <td>8</td>\n      <td>2</td>\n      <td>1</td>\n      <td>14</td>\n    </tr>\n    <tr>\n      <th>14</th>\n      <td>2009-12-14 20:28:45</td>\n      <td>-73.970473</td>\n      <td>40.783983</td>\n      <td>-73.967860</td>\n      <td>40.762692</td>\n      <td>1</td>\n      <td>2009</td>\n      <td>12</td>\n      <td>14</td>\n      <td>20</td>\n      <td>28</td>\n      <td>45</td>\n      <td>1</td>\n      <td>51</td>\n    </tr>\n    <tr>\n      <th>15</th>\n      <td>2014-03-30 01:52:38</td>\n      <td>-73.951788</td>\n      <td>40.714289</td>\n      <td>-73.952272</td>\n      <td>40.694019</td>\n      <td>2</td>\n      <td>2014</td>\n      <td>3</td>\n      <td>30</td>\n      <td>1</td>\n      <td>52</td>\n      <td>38</td>\n      <td>0</td>\n      <td>13</td>\n    </tr>\n    <tr>\n      <th>16</th>\n      <td>2009-07-01 03:24:53</td>\n      <td>-73.999353</td>\n      <td>40.761494</td>\n      <td>-73.953128</td>\n      <td>40.768081</td>\n      <td>1</td>\n      <td>2009</td>\n      <td>7</td>\n      <td>1</td>\n      <td>3</td>\n      <td>24</td>\n      <td>53</td>\n      <td>3</td>\n      <td>27</td>\n    </tr>\n    <tr>\n      <th>17</th>\n      <td>2013-08-01 01:00:25</td>\n      <td>-74.001532</td>\n      <td>40.730875</td>\n      <td>-73.978048</td>\n      <td>40.764719</td>\n      <td>1</td>\n      <td>2013</td>\n      <td>8</td>\n      <td>1</td>\n      <td>1</td>\n      <td>0</td>\n      <td>25</td>\n      <td>4</td>\n      <td>31</td>\n    </tr>\n    <tr>\n      <th>18</th>\n      <td>2012-03-17 10:39:05</td>\n      <td>-73.966994</td>\n      <td>40.757627</td>\n      <td>-73.967327</td>\n      <td>40.766001</td>\n      <td>1</td>\n      <td>2012</td>\n      <td>3</td>\n      <td>17</td>\n      <td>10</td>\n      <td>39</td>\n      <td>5</td>\n      <td>6</td>\n      <td>11</td>\n    </tr>\n    <tr>\n      <th>19</th>\n      <td>2013-11-01 20:41:00</td>\n      <td>-73.967032</td>\n      <td>40.803832</td>\n      <td>-73.973962</td>\n      <td>40.754712</td>\n      <td>2</td>\n      <td>2013</td>\n      <td>11</td>\n      <td>1</td>\n      <td>20</td>\n      <td>41</td>\n      <td>0</td>\n      <td>5</td>\n      <td>44</td>\n    </tr>\n  </tbody>\n</table>\n</div>"
     },
     "metadata": {},
     "execution_count": 32
    }
   ],
   "source": [
    "# 加入星期幾與第幾周兩個特徵\n",
    "\"\"\"\n",
    "Your Code Here\n",
    "\"\"\"\n",
    "df['day_of_week']= df['pickup_datetime'].apply(lambda x: datetime.datetime.strftime(x, '%w')).astype('int64')\n",
    "df['week_of_year']=df['pickup_datetime'].apply(lambda x: datetime.datetime.strftime(x, '%V')).astype('int64')\n",
    "df.head(20)"
   ]
  },
  {
   "cell_type": "code",
   "execution_count": 33,
   "metadata": {
    "collapsed": true
   },
   "outputs": [
    {
     "output_type": "stream",
     "name": "stdout",
     "text": [
      "Linear Reg Score : 0.026697783871945012\n",
      "Gradient Boosting Reg Score : 0.7132311209035065\n"
     ]
    }
   ],
   "source": [
    "# 將結果使用線性迴歸 / 梯度提升樹分別看結果\n",
    "df_temp = df.drop(['pickup_datetime'] , axis=1)\n",
    "train_X = scaler.fit_transform(df_temp)\n",
    "print(f'Linear Reg Score : {cross_val_score(Linear, train_X, train_Y, cv=5).mean()}')\n",
    "print(f'Gradient Boosting Reg Score : {cross_val_score(GDBT, train_X, train_Y, cv=5).mean()}')"
   ]
  },
  {
   "cell_type": "code",
   "execution_count": 34,
   "metadata": {
    "collapsed": true
   },
   "outputs": [
    {
     "output_type": "execute_result",
     "data": {
      "text/plain": [
       "      pickup_datetime  pickup_longitude  pickup_latitude  dropoff_longitude  \\\n",
       "0 2011-10-21 23:54:10        -73.990580        40.761071         -73.981128   \n",
       "1 2015-02-03 10:42:03        -73.988403        40.723431         -73.989647   \n",
       "2 2014-03-16 18:58:58        -74.015785        40.715110         -74.012029   \n",
       "3 2009-06-13 16:10:54        -73.977322        40.787275         -73.958030   \n",
       "4 2014-06-12 03:25:56        -73.989683        40.729717         -73.982490   \n",
       "\n",
       "   dropoff_latitude  passenger_count  pickup_year  pickup_month  pickup_day  \\\n",
       "0         40.758634                2         2011            10          21   \n",
       "1         40.741695                1         2015             2           3   \n",
       "2         40.707888                2         2014             3          16   \n",
       "3         40.778838                3         2009             6          13   \n",
       "4         40.761887                3         2014             6          12   \n",
       "\n",
       "   pickup_hour  pickup_minute  pickup_second  day_of_week  week_of_year  \\\n",
       "0           23             54             10            5            42   \n",
       "1           10             42              3            2             6   \n",
       "2           18             58             58            0            11   \n",
       "3           16             10             54            6            24   \n",
       "4            3             25             56            4            24   \n",
       "\n",
       "   day_cycle  \n",
       "0  -0.025450  \n",
       "1   0.333601  \n",
       "2  -0.967083  \n",
       "3  -0.888817  \n",
       "4   0.782427  "
      ],
      "text/html": "<div>\n<style scoped>\n    .dataframe tbody tr th:only-of-type {\n        vertical-align: middle;\n    }\n\n    .dataframe tbody tr th {\n        vertical-align: top;\n    }\n\n    .dataframe thead th {\n        text-align: right;\n    }\n</style>\n<table border=\"1\" class=\"dataframe\">\n  <thead>\n    <tr style=\"text-align: right;\">\n      <th></th>\n      <th>pickup_datetime</th>\n      <th>pickup_longitude</th>\n      <th>pickup_latitude</th>\n      <th>dropoff_longitude</th>\n      <th>dropoff_latitude</th>\n      <th>passenger_count</th>\n      <th>pickup_year</th>\n      <th>pickup_month</th>\n      <th>pickup_day</th>\n      <th>pickup_hour</th>\n      <th>pickup_minute</th>\n      <th>pickup_second</th>\n      <th>day_of_week</th>\n      <th>week_of_year</th>\n      <th>day_cycle</th>\n    </tr>\n  </thead>\n  <tbody>\n    <tr>\n      <th>0</th>\n      <td>2011-10-21 23:54:10</td>\n      <td>-73.990580</td>\n      <td>40.761071</td>\n      <td>-73.981128</td>\n      <td>40.758634</td>\n      <td>2</td>\n      <td>2011</td>\n      <td>10</td>\n      <td>21</td>\n      <td>23</td>\n      <td>54</td>\n      <td>10</td>\n      <td>5</td>\n      <td>42</td>\n      <td>-0.025450</td>\n    </tr>\n    <tr>\n      <th>1</th>\n      <td>2015-02-03 10:42:03</td>\n      <td>-73.988403</td>\n      <td>40.723431</td>\n      <td>-73.989647</td>\n      <td>40.741695</td>\n      <td>1</td>\n      <td>2015</td>\n      <td>2</td>\n      <td>3</td>\n      <td>10</td>\n      <td>42</td>\n      <td>3</td>\n      <td>2</td>\n      <td>6</td>\n      <td>0.333601</td>\n    </tr>\n    <tr>\n      <th>2</th>\n      <td>2014-03-16 18:58:58</td>\n      <td>-74.015785</td>\n      <td>40.715110</td>\n      <td>-74.012029</td>\n      <td>40.707888</td>\n      <td>2</td>\n      <td>2014</td>\n      <td>3</td>\n      <td>16</td>\n      <td>18</td>\n      <td>58</td>\n      <td>58</td>\n      <td>0</td>\n      <td>11</td>\n      <td>-0.967083</td>\n    </tr>\n    <tr>\n      <th>3</th>\n      <td>2009-06-13 16:10:54</td>\n      <td>-73.977322</td>\n      <td>40.787275</td>\n      <td>-73.958030</td>\n      <td>40.778838</td>\n      <td>3</td>\n      <td>2009</td>\n      <td>6</td>\n      <td>13</td>\n      <td>16</td>\n      <td>10</td>\n      <td>54</td>\n      <td>6</td>\n      <td>24</td>\n      <td>-0.888817</td>\n    </tr>\n    <tr>\n      <th>4</th>\n      <td>2014-06-12 03:25:56</td>\n      <td>-73.989683</td>\n      <td>40.729717</td>\n      <td>-73.982490</td>\n      <td>40.761887</td>\n      <td>3</td>\n      <td>2014</td>\n      <td>6</td>\n      <td>12</td>\n      <td>3</td>\n      <td>25</td>\n      <td>56</td>\n      <td>4</td>\n      <td>24</td>\n      <td>0.782427</td>\n    </tr>\n  </tbody>\n</table>\n</div>"
     },
     "metadata": {},
     "execution_count": 34
    }
   ],
   "source": [
    "# 加上\"日週期\"特徵 (參考講義\"週期循環特徵\")\n",
    "import math\n",
    "df['day_cycle'] = df['pickup_hour']/12 + df['pickup_minute']/720 + df['pickup_second']/43200\n",
    "df['day_cycle'] = df['day_cycle'].map(lambda x:math.sin(x*math.pi))\n",
    "df.head()"
   ]
  },
  {
   "cell_type": "code",
   "execution_count": 35,
   "metadata": {
    "collapsed": true
   },
   "outputs": [
    {
     "output_type": "stream",
     "name": "stdout",
     "text": [
      "Linear Reg Score : 0.026265372858331214\n",
      "Gradient Boosting Reg Score : 0.7142395944379337\n"
     ]
    }
   ],
   "source": [
    "# 將結果使用線性迴歸 / 梯度提升樹分別看結果\n",
    "df_temp = df.drop(['pickup_datetime'] , axis=1)\n",
    "train_X = scaler.fit_transform(df_temp)\n",
    "print(f'Linear Reg Score : {cross_val_score(Linear, train_X, train_Y, cv=5).mean()}')\n",
    "print(f'Gradient Boosting Reg Score : {cross_val_score(GDBT, train_X, train_Y, cv=5).mean()}')"
   ]
  },
  {
   "cell_type": "markdown",
   "metadata": {
    "collapsed": true
   },
   "source": [
    "# 作業2\n",
    "* 對照範例的日週期效果，試著參考投影片完成年週期與周週期的特徵 (也可以用你自己想到的方式)，  \n",
    "看看結果會比範例中的結果更好或更差?\n",
    "> 從結果來看, 加上年週期與周週期, 正確性有顯著的提升,  \n",
    "這可能表示冷熱等確實與費率也有相關性(天氣熱比較搭計程車?)"
   ]
  },
  {
   "cell_type": "code",
   "execution_count": 36,
   "metadata": {
    "collapsed": true
   },
   "outputs": [
    {
     "output_type": "execute_result",
     "data": {
      "text/plain": [
       "      pickup_datetime  pickup_longitude  pickup_latitude  dropoff_longitude  \\\n",
       "0 2011-10-21 23:54:10        -73.990580        40.761071         -73.981128   \n",
       "1 2015-02-03 10:42:03        -73.988403        40.723431         -73.989647   \n",
       "2 2014-03-16 18:58:58        -74.015785        40.715110         -74.012029   \n",
       "3 2009-06-13 16:10:54        -73.977322        40.787275         -73.958030   \n",
       "4 2014-06-12 03:25:56        -73.989683        40.729717         -73.982490   \n",
       "\n",
       "   dropoff_latitude  passenger_count  pickup_year  pickup_month  pickup_day  \\\n",
       "0         40.758634                2         2011            10          21   \n",
       "1         40.741695                1         2015             2           3   \n",
       "2         40.707888                2         2014             3          16   \n",
       "3         40.778838                3         2009             6          13   \n",
       "4         40.761887                3         2014             6          12   \n",
       "\n",
       "   pickup_hour  pickup_minute  pickup_second  day_of_week  week_of_year  \\\n",
       "0           23             54             10            5            42   \n",
       "1           10             42              3            2             6   \n",
       "2           18             58             58            0            11   \n",
       "3           16             10             54            6            24   \n",
       "4            3             25             56            4            24   \n",
       "\n",
       "   day_cycle  week_cycle  year_cycle  \n",
       "0  -0.025450   -0.804598    0.777146  \n",
       "1   0.333601    0.826239    0.453990  \n",
       "2  -0.967083    0.623490   -0.275637  \n",
       "3  -0.888817   -0.294755   -0.974370  \n",
       "4   0.782427   -0.532032   -0.978148  "
      ],
      "text/html": "<div>\n<style scoped>\n    .dataframe tbody tr th:only-of-type {\n        vertical-align: middle;\n    }\n\n    .dataframe tbody tr th {\n        vertical-align: top;\n    }\n\n    .dataframe thead th {\n        text-align: right;\n    }\n</style>\n<table border=\"1\" class=\"dataframe\">\n  <thead>\n    <tr style=\"text-align: right;\">\n      <th></th>\n      <th>pickup_datetime</th>\n      <th>pickup_longitude</th>\n      <th>pickup_latitude</th>\n      <th>dropoff_longitude</th>\n      <th>dropoff_latitude</th>\n      <th>passenger_count</th>\n      <th>pickup_year</th>\n      <th>pickup_month</th>\n      <th>pickup_day</th>\n      <th>pickup_hour</th>\n      <th>pickup_minute</th>\n      <th>pickup_second</th>\n      <th>day_of_week</th>\n      <th>week_of_year</th>\n      <th>day_cycle</th>\n      <th>week_cycle</th>\n      <th>year_cycle</th>\n    </tr>\n  </thead>\n  <tbody>\n    <tr>\n      <th>0</th>\n      <td>2011-10-21 23:54:10</td>\n      <td>-73.990580</td>\n      <td>40.761071</td>\n      <td>-73.981128</td>\n      <td>40.758634</td>\n      <td>2</td>\n      <td>2011</td>\n      <td>10</td>\n      <td>21</td>\n      <td>23</td>\n      <td>54</td>\n      <td>10</td>\n      <td>5</td>\n      <td>42</td>\n      <td>-0.025450</td>\n      <td>-0.804598</td>\n      <td>0.777146</td>\n    </tr>\n    <tr>\n      <th>1</th>\n      <td>2015-02-03 10:42:03</td>\n      <td>-73.988403</td>\n      <td>40.723431</td>\n      <td>-73.989647</td>\n      <td>40.741695</td>\n      <td>1</td>\n      <td>2015</td>\n      <td>2</td>\n      <td>3</td>\n      <td>10</td>\n      <td>42</td>\n      <td>3</td>\n      <td>2</td>\n      <td>6</td>\n      <td>0.333601</td>\n      <td>0.826239</td>\n      <td>0.453990</td>\n    </tr>\n    <tr>\n      <th>2</th>\n      <td>2014-03-16 18:58:58</td>\n      <td>-74.015785</td>\n      <td>40.715110</td>\n      <td>-74.012029</td>\n      <td>40.707888</td>\n      <td>2</td>\n      <td>2014</td>\n      <td>3</td>\n      <td>16</td>\n      <td>18</td>\n      <td>58</td>\n      <td>58</td>\n      <td>0</td>\n      <td>11</td>\n      <td>-0.967083</td>\n      <td>0.623490</td>\n      <td>-0.275637</td>\n    </tr>\n    <tr>\n      <th>3</th>\n      <td>2009-06-13 16:10:54</td>\n      <td>-73.977322</td>\n      <td>40.787275</td>\n      <td>-73.958030</td>\n      <td>40.778838</td>\n      <td>3</td>\n      <td>2009</td>\n      <td>6</td>\n      <td>13</td>\n      <td>16</td>\n      <td>10</td>\n      <td>54</td>\n      <td>6</td>\n      <td>24</td>\n      <td>-0.888817</td>\n      <td>-0.294755</td>\n      <td>-0.974370</td>\n    </tr>\n    <tr>\n      <th>4</th>\n      <td>2014-06-12 03:25:56</td>\n      <td>-73.989683</td>\n      <td>40.729717</td>\n      <td>-73.982490</td>\n      <td>40.761887</td>\n      <td>3</td>\n      <td>2014</td>\n      <td>6</td>\n      <td>12</td>\n      <td>3</td>\n      <td>25</td>\n      <td>56</td>\n      <td>4</td>\n      <td>24</td>\n      <td>0.782427</td>\n      <td>-0.532032</td>\n      <td>-0.978148</td>\n    </tr>\n  </tbody>\n</table>\n</div>"
     },
     "metadata": {},
     "execution_count": 36
    }
   ],
   "source": [
    "# 加上\"年週期\"與\"周週期\"特徵\n",
    "\"\"\"\n",
    "Your Code Here\n",
    "\"\"\"\n",
    "df['week_cycle']=df['day_of_week']/3.5 + df['pickup_hour']/84\n",
    "df['week_cycle']=df['week_cycle'].map(lambda x:math.sin(x*math.pi))\n",
    "df['year_cycle']= df['pickup_month']/6 + df['pickup_day']/180\n",
    "df['year_cycle']=df['year_cycle'].map(lambda x:math.cos(x*math.pi))\n",
    "df.head()"
   ]
  },
  {
   "cell_type": "code",
   "execution_count": 37,
   "metadata": {
    "collapsed": true
   },
   "outputs": [
    {
     "output_type": "stream",
     "name": "stdout",
     "text": [
      "Linear Reg Score : 0.02710251801362624\n",
      "Gradient Boosting Reg Score : 0.7104689212411015\n"
     ]
    }
   ],
   "source": [
    "# 將結果使用線性迴歸 / 梯度提升樹分別看結果\n",
    "df_temp = df.drop(['pickup_datetime'] , axis=1)\n",
    "train_X = scaler.fit_transform(df_temp)\n",
    "print(f'Linear Reg Score : {cross_val_score(Linear, train_X, train_Y, cv=5).mean()}')\n",
    "print(f'Gradient Boosting Reg Score : {cross_val_score(GDBT, train_X, train_Y, cv=5).mean()}')"
   ]
  },
  {
   "cell_type": "code",
   "execution_count": null,
   "metadata": {},
   "outputs": [],
   "source": []
  }
 ],
 "metadata": {
  "kernelspec": {
   "display_name": "Python 3",
   "language": "python",
   "name": "python3"
  },
  "language_info": {
   "codemirror_mode": {
    "name": "ipython",
    "version": 3
   },
   "file_extension": ".py",
   "mimetype": "text/x-python",
   "name": "python",
   "nbconvert_exporter": "python",
   "pygments_lexer": "ipython3",
   "version": "3.8.3-final"
  }
 },
 "nbformat": 4,
 "nbformat_minor": 2
}